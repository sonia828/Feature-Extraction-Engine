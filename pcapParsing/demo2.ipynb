{
 "cells": [
  {
   "cell_type": "code",
   "execution_count": 1,
   "metadata": {},
   "outputs": [
    {
     "name": "stderr",
     "output_type": "stream",
     "text": [
      "WARNING: No IPv4 address found on en3 !\n",
      "WARNING: No IPv4 address found on ap1 !\n",
      "WARNING: more No IPv4 address found on awdl0 !\n"
     ]
    }
   ],
   "source": [
    "# Here, we are going to read in a pcap file and parse it using scapy\n",
    "\n",
    "import os\n",
    "import sys\n",
    "import time\n",
    "import datetime\n",
    "import socket\n",
    "import pathlib\n",
    "import numpy as np\n",
    "import pandas as pd\n",
    "# import struct\n",
    "# import binascii\n",
    "# import dpkt\n",
    "# import scapy\n",
    "import scapy.all as scapy\n",
    "from collections import Counter"
   ]
  },
  {
   "cell_type": "code",
   "execution_count": 2,
   "metadata": {},
   "outputs": [
    {
     "name": "stdout",
     "output_type": "stream",
     "text": [
      "Requirement already satisfied: scapy in /Library/Frameworks/Python.framework/Versions/3.8/lib/python3.8/site-packages (2.5.0)\n",
      "\n",
      "\u001b[1m[\u001b[0m\u001b[34;49mnotice\u001b[0m\u001b[1;39;49m]\u001b[0m\u001b[39;49m A new release of pip is available: \u001b[0m\u001b[31;49m23.0.1\u001b[0m\u001b[39;49m -> \u001b[0m\u001b[32;49m23.1\u001b[0m\n",
      "\u001b[1m[\u001b[0m\u001b[34;49mnotice\u001b[0m\u001b[1;39;49m]\u001b[0m\u001b[39;49m To update, run: \u001b[0m\u001b[32;49mpip install --upgrade pip\u001b[0m\n"
     ]
    }
   ],
   "source": [
    "!pip install scapy"
   ]
  },
  {
   "cell_type": "code",
   "execution_count": null,
   "metadata": {},
   "outputs": [],
   "source": [
    "!pip install numpy"
   ]
  },
  {
   "cell_type": "code",
   "execution_count": null,
   "metadata": {},
   "outputs": [],
   "source": [
    "!pip install pandas"
   ]
  },
  {
   "cell_type": "code",
   "execution_count": 2,
   "metadata": {},
   "outputs": [],
   "source": [
    "args: list = [\n",
    "    './first.pcap',\n",
    "    100,\n",
    "    'DDoS'\n",
    "]"
   ]
  },
  {
   "cell_type": "code",
   "execution_count": 3,
   "metadata": {},
   "outputs": [],
   "source": [
    "filename = args[0]\n",
    "num_packets = args[1]\n",
    "label = args[2]"
   ]
  },
  {
   "cell_type": "code",
   "execution_count": 4,
   "metadata": {},
   "outputs": [],
   "source": [
    "packets = scapy.rdpcap(filename)"
   ]
  },
  {
   "cell_type": "code",
   "execution_count": 5,
   "metadata": {},
   "outputs": [],
   "source": [
    "for p in packets:\n",
    "    packet = (p/scapy.Ether())\n",
    "    break"
   ]
  },
  {
   "cell_type": "code",
   "execution_count": 6,
   "metadata": {},
   "outputs": [
    {
     "name": "stderr",
     "output_type": "stream",
     "text": [
      "WARNING: Mac address to reach destination not found. Using broadcast.\n"
     ]
    },
    {
     "name": "stdout",
     "output_type": "stream",
     "text": [
      "###[ Ethernet ]### \n",
      "  dst       = 90:b1:1c:a2:c0:d3\n",
      "  src       = 70:f3:5a:42:73:e8\n",
      "  type      = IPv4\n",
      "###[ IP ]### \n",
      "     version   = 4\n",
      "     ihl       = 5\n",
      "     tos       = 0x0\n",
      "     len       = 544\n",
      "     id        = 2\n",
      "     flags     = DF\n",
      "     frag      = 0\n",
      "     ttl       = 50\n",
      "     proto     = udp\n",
      "     chksum    = 0xa80c\n",
      "     src       = 172.16.0.5\n",
      "     dst       = 192.168.50.1\n",
      "     \\options   \\\n",
      "###[ UDP ]### \n",
      "        sport     = 42217\n",
      "        dport     = 20168\n",
      "        len       = 524\n",
      "        chksum    = 0x2852\n",
      "###[ Raw ]### \n",
      "           load      = '\\x00\\x03\\x00\\x01\\x7fELF\\x01\\x02\\x01\\x00\\x00\\x00\\x00\\x00\\x00\\x00\\x00\\x00\\x00\\x02\\x00\\x08\\x00\\x00\\x00\\x01\\x00@V \\x00\\x00\\x004\\x00\\x05b\\x1cP\\x00\\x10\\x07\\x004\\x00 \\x00\\x06\\x00(\\x00\\x1b\\x00\\x1a\\x00\\x00\\x00\\x06\\x00\\x00\\x004\\x00@\\x004\\x00@\\x004\\x00\\x00\\x00\\\\xc0\\x00\\x00\\x00\\\\xc0\\x00\\x00\\x00\\x05\\x00\\x00\\x00\\x04\\x00\\x00\\x00\\x03\\x00\\x00\\x00\\\\xf4\\x00@\\x00\\\\xf4\\x00@\\x00\\\\xf4\\x00\\x00\\x00\\x14\\x00\\x00\\x00\\x14\\x00\\x00\\x00\\x04\\x00\\x00\\x00\\x01p\\x00\\x00\\x00\\x00\\x00\\x01\\x08\\x00@\\x01\\x08\\x00@\\x01\\x08\\x00\\x00\\x00\\x18\\x00\\x00\\x00\\x18\\x00\\x00\\x00\\x04\\x00\\x00\\x00\\x04\\x00\\x00\\x00\\x01\\x00\\x00\\x00\\x00\\x00@\\x00\\x00\\x00@\\x00\\x00\\x00\\x04\\\\xf4\\\\xa4\\x00\\x04\\\\xf4\\\\xa4\\x00\\x00\\x00\\x05\\x00\\x00\\x10\\x00\\x00\\x00\\x00\\x01\\x00\\x05\\x00\\x00\\x10\\x00\\x00\\x00\\x10\\x00\\x00\\x00\\x00\\x00\\x1a \\x00\\x00T|\\x00\\x00\\x00\\x06\\x00\\x00\\x10\\x00\\x00\\x00\\x00\\x02\\x00\\x00\\x01 \\x00@\\x01 \\x00@\\x01 \\x00\\x00O\\\\xe1\\x00\\x00O\\\\xe1\\x00\\x00\\x00\\x07\\x00\\x00\\x00\\x04/lib/ld-uClibc.so.0\\x00\\\\xb2\\x00\\x01\\\\xf6\\x00\\x00\\x00\\x00\\x00\\x00\\x00\\x00\\x00\\x00\\x00\\x00\\x00\\x00\\x00\\x00\\x10\\x00\\\\x91@\\x00\\x00\\x00\\x01\\x00\\x00\\x00W\\x00\\x00\\x00\\x01\\x00\\x00\\x1a#\\x00\\x00\\x00\\x01\\x00\\x00\\x1a1\\x00\\x00\\x00\\x0c\\x00@U\\\\x90\\x00\\x00\\x00\\r\\x00Da\\\\x80\\x00\\x00\\x00\\x04\\x00@\\x02 \\x00\\x00\\x00\\x05\\x00@6\\\\x84\\x00\\x00\\x00\\x06\\x00@\\x13$\\x00\\x00\\x00\\n\\x00\\x00\\x1a}\\x00\\x00\\x00\\x0b\\x00\\x00\\x00\\x10p\\x00\\x00\\x16\\x10\\x00\\x11@\\x00\\x00\\x00\\x15\\x00\\x00\\x00\\x00\\x00\\x00\\x00\\x03\\x10\\x00\\x11P\\x00\\x00\\x00\\x11\\x00\\x00\\x00\\x00\\x00\\x00\\x00\\x12\\x00\\x00\\x00\\x00\\x00\\x00\\x00\\x13\\x00\\x00\\x00\\x08p\\x00\\x00\\x01\\x00\\x00\\x00\\x01p\\x00\\x00\\x05\\x00\\x00\\x00\\x02p\\x00\\x00\\x06\\x00@\\x00\\x00p\\x00\\x00\\n\\x00\\x00\\x00\\x0cp\\x00\\x00\\x11\\x00\\x00\\x026p\\x00\\x00\\x12\\x00\\x00\\x00#p\\x00\\x00\\x13\\x00\\x00\\x00\\x0eo\\\\xff\\\\xff\\\\xfe\\x00@Upo\\\\xff\\\\xff\\\\xff\\x00\\x00\\x00\\x01o\\\\xff\\\\xff\\\\xf0\\x00@Q\\x02\\x00\\x00\\x00\\x00\\x00\\x00\\x00\\x00\\x00\\x00\\x00\\x00\\x00\\x00\\x00\\x00'\n",
      "###[ Ethernet ]### \n",
      "              dst       = ff:ff:ff:ff:ff:ff\n",
      "              src       = a4:83:e7:0a:59:91\n",
      "              type      = 0x9000\n",
      "\n"
     ]
    }
   ],
   "source": [
    "# print(packet)\n",
    "k = packet.show()"
   ]
  },
  {
   "cell_type": "code",
   "execution_count": 8,
   "metadata": {},
   "outputs": [],
   "source": [
    "#make a generator that processes num_packets at a time\n",
    "\n",
    "def getSample():\n",
    "    i: int = 0\n",
    "    current_sample: list = []\n",
    "\n",
    "    for p in packets:\n",
    "\n",
    "        if  i > 0 and i % num_packets == 0:\n",
    "            i+=1\n",
    "            yield current_sample\n",
    "        else:\n",
    "            packet = p/scapy.Ether()\n",
    "            current_sample.append(packet)\n",
    "            i+=1"
   ]
  },
  {
   "cell_type": "code",
   "execution_count": null,
   "metadata": {},
   "outputs": [
    {
     "ename": "NameError",
     "evalue": "name 'sample' is not defined",
     "output_type": "error",
     "traceback": [
      "\u001b[0;31m---------------------------------------------------------------------------\u001b[0m",
      "\u001b[0;31mNameError\u001b[0m                                 Traceback (most recent call last)",
      "Cell \u001b[0;32mIn[9], line 1\u001b[0m\n\u001b[0;32m----> 1\u001b[0m sample[\u001b[39m0\u001b[39m]\n",
      "\u001b[0;31mNameError\u001b[0m: name 'sample' is not defined"
     ]
    }
   ],
   "source": [
    "sample[0]"
   ]
  },
  {
   "cell_type": "code",
   "execution_count": 16,
   "metadata": {},
   "outputs": [
    {
     "name": "stderr",
     "output_type": "stream",
     "text": [
      "WARNING: Mac address to reach destination not found. Using broadcast.\n",
      "WARNING: Mac address to reach destination not found. Using broadcast.\n",
      "WARNING: more Mac address to reach destination not found. Using broadcast.\n"
     ]
    }
   ],
   "source": [
    "samples = getSample()\n",
    "sample = next(samples)\n",
    "sample_values = {}\n",
    "\n",
    "temp = {}\n",
    "\n",
    "temp['IP_len'] = []\n",
    "temp['destination_len'] = []\n",
    "temp['payload_len'] = []\n",
    "temp['UDP_len'] = []\n",
    "temp['udp_checksum'] = []\n",
    "\n",
    "# Additional features\n",
    "temp['dst_mac'] = []  # Destination MAC addresses\n",
    "temp['src_mac'] = []  # Source MAC addresses\n",
    "temp['eth_type'] = []  # Ethernet types\n",
    "temp['ip_version'] = []  # IP versions\n",
    "temp['ip_ihl'] = []  # IP header lengths\n",
    "temp['ip_tos'] = []  # IP Type of Service values\n",
    "temp['ip_flags'] = []  # IP fragmentation flags\n",
    "temp['ip_ttl'] = []  # IP Time to Live values\n",
    "temp['ip_proto'] = []  # IP protocols (e.g., UDP, TCP, ICMP, etc.)\n",
    "temp['src_ip'] = []  # Source IP addresses\n",
    "temp['udp_sport'] = []  # UDP source ports\n",
    "temp['udp_dport'] = []  # UDP destination ports\n",
    "\n",
    "first_pkt_time = sample[0].time  # Get the timestamp of the first packet\n",
    "last_pkt_time = sample[-1].time  # Get the timestamp of the last packet\n",
    "duration = last_pkt_time - first_pkt_time  # Compute the duration of the capture in second\n",
    "\n",
    "for p in sample:\n",
    "\n",
    "    temp['IP_len'].append(p.len)\n",
    "    \n",
    "    # Extracting Ethernet layer information\n",
    "    if p.haslayer('Ethernet'):\n",
    "        temp['dst_mac'].append(p['Ethernet'].dst)\n",
    "        temp['src_mac'].append(p['Ethernet'].src)\n",
    "        temp['eth_type'].append(p['Ethernet'].type)\n",
    "    \n",
    "    # Extracting IP layer information\n",
    "    if p.haslayer('IP'):\n",
    "        temp['ip_version'].append(p['IP'].version)\n",
    "        temp['ip_ihl'].append(p['IP'].ihl)\n",
    "        temp['ip_tos'].append(p['IP'].tos)\n",
    "        temp['ip_flags'].append(p['IP'].flags)\n",
    "        temp['ip_ttl'].append(p['IP'].ttl)\n",
    "        temp['ip_proto'].append(p['IP'].proto)\n",
    "        temp['src_ip'].append(p['IP'].src)\n",
    "        \n",
    "        destination_len = len(p['IP'].dst)\n",
    "        temp['destination_len'].append(destination_len)\n",
    "\n",
    "    # Extracting Raw layer information   \n",
    "    if p.haslayer('Raw'):\n",
    "        temp['payload_len'].append(len(p['Raw'].load))\n",
    "    \n",
    "    # Extracting UDP layer information\n",
    "    if p.haslayer('UDP'):\n",
    "       udp_pkt = p['UDP']\n",
    "       udp_len = len(udp_pkt.payload)\n",
    "       temp['UDP_len'].append(udp_len)\n",
    "       \n",
    "       udp_checksum = p['UDP'].chksum\n",
    "       temp['udp_checksum'].append(udp_checksum)\n",
    "       \n",
    "       temp['udp_sport'].append(p['UDP'].sport)# UDP source port\n",
    "       temp['udp_dport'].append(p['UDP'].dport)  # UDP destination port\n",
    "\n",
    "\n",
    "#length of the ip packet\n",
    "sample_values['IP_len_avg'] = sum(temp['IP_len'])/len(temp['IP_len'])\n",
    "sample_values['IP_len_max'] = max(temp['IP_len'])\n",
    "sample_values['IP_len_min'] = min(temp['IP_len'])\n",
    "sample_values['IP_len_std'] = np.std(temp['IP_len'])\n",
    "sample_values['IP_len_var'] = np.var(temp['IP_len'])\n",
    "sample_values['IP_len_sum'] = sum(temp['IP_len'])\n",
    "\n",
    "#length of the destination IP address in bytes\n",
    "sample_values['destination_len_avg'] = sum(temp['destination_len']) / len(temp['destination_len'])\n",
    "sample_values['destination_len_max'] = max(temp['destination_len'])\n",
    "sample_values['destination_len_min'] = min(temp['destination_len'])\n",
    "sample_values['destination_len_std'] = np.std(temp['destination_len'])\n",
    "sample_values['destination_len_var'] = np.var(temp['destination_len'])\n",
    "sample_values['destination_len_sum'] = sum(temp['destination_len'])\n",
    "\n",
    "#length of the payload (or data) of each packet.\n",
    "sample_values['payload_len_avg'] = sum(temp['payload_len'])/len(temp['payload_len'])\n",
    "sample_values['payload_len_max'] = max(temp['payload_len'])\n",
    "sample_values['payload_len_min'] = min(temp['payload_len'])\n",
    "sample_values['payload_len_std'] = np.std(temp['payload_len'])\n",
    "sample_values['payload_len_var'] = np.var(temp['payload_len'])\n",
    "sample_values['payload_len_sum'] = sum(temp['payload_len'])\n",
    "\n",
    "#length of the UDP (User Datagram Protocol) payload in each packet\n",
    "sample_values['UDP_len_avg'] = sum(temp['UDP_len'])/len(temp['UDP_len'])\n",
    "sample_values['UDP_len_max'] = max(temp['UDP_len'])\n",
    "sample_values['UDP_len_min'] = min(temp['UDP_len'])\n",
    "sample_values['UDP_len_std'] = np.std(temp['UDP_len'])\n",
    "sample_values['UDP_len_var'] = np.var(temp['UDP_len'])\n",
    "sample_values['UDP_len_sum'] = sum(temp['UDP_len'])\n",
    "\n",
    "sample_values['udp_checksum_avg'] = sum(temp['udp_checksum'])/len(temp['udp_checksum'])\n",
    "sample_values['udp_checksum_max'] = max(temp['udp_checksum'])\n",
    "sample_values['udp_checksum_min'] = min(temp['udp_checksum'])\n",
    "sample_values['udp_checksum_std'] = np.std(temp['udp_checksum'])\n",
    "sample_values['udp_checksum_var'] = np.var(temp['udp_checksum'])\n",
    "sample_values['udp_checksum_dist'] = Counter(temp['udp_checksum'])\n",
    "\n",
    "sample_values['dst_mac_dist'] = Counter(temp['dst_mac'])\n",
    "sample_values['src_mac_dist'] = Counter(temp['src_mac'])\n",
    "sample_values['eth_type_dist'] = Counter(temp['eth_type'])\n",
    "sample_values['ip_version_dist'] = Counter(temp['ip_version'])\n",
    "sample_values['ip_ihl_dist'] = Counter(temp['ip_ihl'])\n",
    "sample_values['ip_tos_dist'] = Counter(temp['ip_tos'])\n",
    "sample_values['ip_flags_dist'] = Counter(temp['ip_flags'])\n",
    "sample_values['ip_ttl_dist'] = Counter(temp['ip_ttl'])\n",
    "sample_values['ip_proto_dist'] = Counter(temp['ip_proto'])\n",
    "sample_values['src_ip_dist'] = Counter(temp['src_ip'])\n",
    "sample_values['udp_sport_dist'] = Counter(temp['udp_sport'])\n",
    "sample_values['udp_dport_dist'] = Counter(temp['udp_dport'])\n",
    "\n",
    "sample_values['avg_packet_rate'] = len(sample) / duration \n",
    "\n",
    "sample_values['Label'] = label\n"
   ]
  },
  {
   "cell_type": "code",
   "execution_count": 17,
   "metadata": {},
   "outputs": [],
   "source": [
    "dataset_raw = [\n",
    "    sample_values,\n",
    "]\n",
    "\n",
    "dataset = pd.DataFrame(dataset_raw)"
   ]
  },
  {
   "cell_type": "code",
   "execution_count": 18,
   "metadata": {},
   "outputs": [
    {
     "data": {
      "text/html": [
       "<div>\n",
       "<style scoped>\n",
       "    .dataframe tbody tr th:only-of-type {\n",
       "        vertical-align: middle;\n",
       "    }\n",
       "\n",
       "    .dataframe tbody tr th {\n",
       "        vertical-align: top;\n",
       "    }\n",
       "\n",
       "    .dataframe thead th {\n",
       "        text-align: right;\n",
       "    }\n",
       "</style>\n",
       "<table border=\"1\" class=\"dataframe\">\n",
       "  <thead>\n",
       "    <tr style=\"text-align: right;\">\n",
       "      <th></th>\n",
       "      <th>IP_len_avg</th>\n",
       "      <th>IP_len_max</th>\n",
       "      <th>IP_len_min</th>\n",
       "      <th>IP_len_std</th>\n",
       "      <th>IP_len_var</th>\n",
       "      <th>IP_len_sum</th>\n",
       "      <th>destination_len_avg</th>\n",
       "      <th>destination_len_max</th>\n",
       "      <th>destination_len_min</th>\n",
       "      <th>destination_len_std</th>\n",
       "      <th>...</th>\n",
       "      <th>ip_ihl_dist</th>\n",
       "      <th>ip_tos_dist</th>\n",
       "      <th>ip_flags_dist</th>\n",
       "      <th>ip_ttl_dist</th>\n",
       "      <th>ip_proto_dist</th>\n",
       "      <th>src_ip_dist</th>\n",
       "      <th>udp_sport_dist</th>\n",
       "      <th>udp_dport_dist</th>\n",
       "      <th>avg_packet_rate</th>\n",
       "      <th>Label</th>\n",
       "    </tr>\n",
       "  </thead>\n",
       "  <tbody>\n",
       "    <tr>\n",
       "      <th>0</th>\n",
       "      <td>544.0</td>\n",
       "      <td>544</td>\n",
       "      <td>544</td>\n",
       "      <td>0.0</td>\n",
       "      <td>0.0</td>\n",
       "      <td>54400</td>\n",
       "      <td>12.0</td>\n",
       "      <td>12</td>\n",
       "      <td>12</td>\n",
       "      <td>0.0</td>\n",
       "      <td>...</td>\n",
       "      <td>{5: 100}</td>\n",
       "      <td>{0: 98, 32: 2}</td>\n",
       "      <td>{DF: 100}</td>\n",
       "      <td>{50: 14, 51: 13, 55: 12, 47: 12, 49: 13, 45: 2...</td>\n",
       "      <td>{17: 100}</td>\n",
       "      <td>{'172.16.0.5': 100}</td>\n",
       "      <td>{42217: 2, 62896: 1, 63624: 2, 62640: 2, 63496...</td>\n",
       "      <td>{20168: 2, 42948: 1, 60749: 2, 49218: 2, 45761...</td>\n",
       "      <td>61425.06142506142506142506143</td>\n",
       "      <td>DDoS</td>\n",
       "    </tr>\n",
       "  </tbody>\n",
       "</table>\n",
       "<p>1 rows × 44 columns</p>\n",
       "</div>"
      ],
      "text/plain": [
       "   IP_len_avg  IP_len_max  IP_len_min  IP_len_std  IP_len_var  IP_len_sum  \\\n",
       "0       544.0         544         544         0.0         0.0       54400   \n",
       "\n",
       "   destination_len_avg  destination_len_max  destination_len_min  \\\n",
       "0                 12.0                   12                   12   \n",
       "\n",
       "   destination_len_std  ...  ip_ihl_dist     ip_tos_dist  ip_flags_dist  \\\n",
       "0                  0.0  ...     {5: 100}  {0: 98, 32: 2}      {DF: 100}   \n",
       "\n",
       "                                         ip_ttl_dist  ip_proto_dist  \\\n",
       "0  {50: 14, 51: 13, 55: 12, 47: 12, 49: 13, 45: 2...      {17: 100}   \n",
       "\n",
       "           src_ip_dist                                     udp_sport_dist  \\\n",
       "0  {'172.16.0.5': 100}  {42217: 2, 62896: 1, 63624: 2, 62640: 2, 63496...   \n",
       "\n",
       "                                      udp_dport_dist  \\\n",
       "0  {20168: 2, 42948: 1, 60749: 2, 49218: 2, 45761...   \n",
       "\n",
       "                 avg_packet_rate  Label  \n",
       "0  61425.06142506142506142506143   DDoS  \n",
       "\n",
       "[1 rows x 44 columns]"
      ]
     },
     "execution_count": 18,
     "metadata": {},
     "output_type": "execute_result"
    }
   ],
   "source": [
    "dataset.head()"
   ]
  }
 ],
 "metadata": {
  "kernelspec": {
   "display_name": "Python 3",
   "language": "python",
   "name": "python3"
  },
  "language_info": {
   "codemirror_mode": {
    "name": "ipython",
    "version": 3
   },
   "file_extension": ".py",
   "mimetype": "text/x-python",
   "name": "python",
   "nbconvert_exporter": "python",
   "pygments_lexer": "ipython3",
   "version": "3.8.1"
  },
  "orig_nbformat": 4
 },
 "nbformat": 4,
 "nbformat_minor": 2
}
